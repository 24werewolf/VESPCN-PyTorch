{
 "cells": [
  {
   "cell_type": "code",
   "execution_count": 1,
   "metadata": {},
   "outputs": [
    {
     "name": "stdout",
     "output_type": "stream",
     "text": [
      "1\n",
      "shape: torch.Size([1]) , torch.Size([1])\n"
     ]
    },
    {
     "ename": "TypeError",
     "evalue": "__init__() got an unexpected keyword argument 'data_tensor'",
     "output_type": "error",
     "traceback": [
      "\u001b[0;31m---------------------------------------------------------------------------\u001b[0m",
      "\u001b[0;31mTypeError\u001b[0m                                 Traceback (most recent call last)",
      "\u001b[0;32m<ipython-input-1-575510a9e83d>\u001b[0m in \u001b[0;36m<module>\u001b[0;34m()\u001b[0m\n\u001b[1;32m     23\u001b[0m \u001b[0mprint\u001b[0m\u001b[0;34m(\u001b[0m\u001b[0;34m\"shape:\"\u001b[0m\u001b[0;34m,\u001b[0m\u001b[0mHR_train\u001b[0m\u001b[0;34m.\u001b[0m\u001b[0mshape\u001b[0m\u001b[0;34m,\u001b[0m\u001b[0;34m\",\"\u001b[0m\u001b[0;34m,\u001b[0m\u001b[0mLR_train\u001b[0m\u001b[0;34m.\u001b[0m\u001b[0mshape\u001b[0m\u001b[0;34m)\u001b[0m\u001b[0;34m\u001b[0m\u001b[0m\n\u001b[1;32m     24\u001b[0m \u001b[0;34m\u001b[0m\u001b[0m\n\u001b[0;32m---> 25\u001b[0;31m \u001b[0mtrainset\u001b[0m \u001b[0;34m=\u001b[0m \u001b[0mData\u001b[0m\u001b[0;34m.\u001b[0m\u001b[0mTensorDataset\u001b[0m\u001b[0;34m(\u001b[0m\u001b[0mdata_tensor\u001b[0m\u001b[0;34m=\u001b[0m\u001b[0mLR_train\u001b[0m\u001b[0;34m,\u001b[0m \u001b[0mtarget_tensor\u001b[0m\u001b[0;34m=\u001b[0m\u001b[0mHR_train\u001b[0m\u001b[0;34m)\u001b[0m\u001b[0;34m\u001b[0m\u001b[0m\n\u001b[0m\u001b[1;32m     26\u001b[0m \u001b[0mvalidset\u001b[0m \u001b[0;34m=\u001b[0m \u001b[0mData\u001b[0m\u001b[0;34m.\u001b[0m\u001b[0mTensorDataset\u001b[0m\u001b[0;34m(\u001b[0m\u001b[0mdata_tensor\u001b[0m\u001b[0;34m=\u001b[0m\u001b[0mLR_valid\u001b[0m\u001b[0;34m,\u001b[0m \u001b[0mtarget_tensor\u001b[0m\u001b[0;34m=\u001b[0m\u001b[0mHR_valid\u001b[0m\u001b[0;34m)\u001b[0m\u001b[0;34m\u001b[0m\u001b[0m\n\u001b[1;32m     27\u001b[0m \u001b[0mbatch_num\u001b[0m \u001b[0;34m=\u001b[0m \u001b[0;36m32\u001b[0m\u001b[0;34m\u001b[0m\u001b[0m\n",
      "\u001b[0;31mTypeError\u001b[0m: __init__() got an unexpected keyword argument 'data_tensor'"
     ]
    }
   ],
   "source": [
    "import os\n",
    "import utils\n",
    "import dataloader\n",
    "import torch\n",
    "import torch.utils.data as Data\n",
    "import torch.nn.init\n",
    "import torchvision\n",
    "from torch.autograd import Variable\n",
    "import torchvision.utils as utils\n",
    "import torchvision.datasets as dsets\n",
    "import torchvision.transforms as transforms\n",
    "import time\n",
    "\n",
    "%load_ext autoreload\n",
    "%autoreload 2\n",
    "\n",
    "HR_train, HR_valid, LR_train, LR_valid = dataloader.load_data()\n",
    "#convert to torch Tensor\n",
    "HR_train = torch.Tensor(HR_train)\n",
    "HR_valid = torch.Tensor(HR_valid)\n",
    "LR_train = torch.Tensor(LR_train)\n",
    "LR_valid = torch.Tensor(LR_valid)\n",
    "print(\"shape:\",HR_train.shape,\",\",LR_train.shape)\n",
    "\n",
    "trainset = Data.TensorDataset(data_tensor=LR_train, target_tensor=HR_train)\n",
    "validset = Data.TensorDataset(data_tensor=LR_valid, target_tensor=HR_valid)\n",
    "batch_num = 32\n",
    "trainloader = torch.utils.data.DataLoader(trainset, batch_size=batch_num, shuffle=True, num_workers=10)\n",
    "validloader = torch.utils.data.DataLoader(validset, batch_size=batch_num, shuffle=True, num_workers=10)\n",
    "validloader2 = torch.utils.data.DataLoader(validset, batch_size=1, shuffle=True, num_workers=10)"
   ]
  },
  {
   "cell_type": "code",
   "execution_count": 1,
   "metadata": {},
   "outputs": [
    {
     "name": "stdout",
     "output_type": "stream",
     "text": [
      "ESPCN(\n",
      "  (conv1): Conv2d(1, 64, kernel_size=(5, 5), stride=(1, 1), padding=(4, 4))\n",
      "  (conv2): Conv2d(64, 32, kernel_size=(3, 3), stride=(1, 1), padding=(2, 2))\n",
      "  (conv3): Conv2d(32, 9, kernel_size=(3, 3), stride=(1, 1), padding=(2, 2))\n",
      "  (pixel_shuffle): PixelShuffle(upscale_factor=3)\n",
      "  (relu): ReLU()\n",
      "  (tanh): Tanh()\n",
      ")\n"
     ]
    }
   ],
   "source": [
    "import numpy as np\n",
    "import os\n",
    "import scipy.misc\n",
    "from models import *\n",
    "%reload_ext autoreload\n",
    "%autoreload 2\n",
    "\n",
    "model = ESPCN(upscale_factor=3)\n",
    "model.cuda()\n",
    "print(model)"
   ]
  },
  {
   "cell_type": "code",
   "execution_count": null,
   "metadata": {},
   "outputs": [],
   "source": [
    "import numpy as np\n",
    "import torch.optim as optim\n",
    "\n",
    "MSE_loss = nn.MSELoss()\n",
    "optimizer = optim.Adam(net.parameters(), lr=1e-4)\n",
    "\n",
    "net.load_state_dict(torch.load('./checkpoints/ESPCN.pkl'))\n",
    "start_time0 = time.time()\n",
    "for epoch in range(2000):\n",
    "    if epoch % 100 == 0:\n",
    "        print('Epoch %d, runtime: %.4f' %(epoch + 1, time.time()-start_time))\n",
    "    start_time = time.time()\n",
    "    \n",
    "    for i, data in enumerate(trainloader, 0):\n",
    "        #print(i)\n",
    "        LR, HR = data \n",
    "        HR = HR.type(torch.FloatTensor) \n",
    "        inputs, target = Variable(LR), Variable(HR)\n",
    "        inputs = inputs.cuda()\n",
    "        targets = targets.cuda()\n",
    "\n",
    "        optimizer.zero_grad()\n",
    "        \n",
    "        outputs = net(inputs)\n",
    "        #print(\"outputs:\", outputs,\"steering:\",steering)\n",
    "        \n",
    "        loss = MSE_loss(outputs, targets)\n",
    "        loss.backward()\n",
    "        optimizer.step()\n",
    "        \n",
    "        if epoch % 100 == 0 and i % 50 == 49:   \n",
    "            print('[%d, %5d] loss : %.6f' % (epoch + 1, i+ 1, loss.data[0] / batch_num))\n",
    "    \n",
    "print('Finished training, runtime: %.4f' %(time.time()-start_time0))\n",
    "\n",
    "torch.save(net.state_dict(), './checkpoints/ESPCN.pkl')"
   ]
  }
 ],
 "metadata": {
  "kernelspec": {
   "display_name": "Python 3",
   "language": "python",
   "name": "python3"
  },
  "language_info": {
   "codemirror_mode": {
    "name": "ipython",
    "version": 3
   },
   "file_extension": ".py",
   "mimetype": "text/x-python",
   "name": "python",
   "nbconvert_exporter": "python",
   "pygments_lexer": "ipython3",
   "version": "3.5.2"
  }
 },
 "nbformat": 4,
 "nbformat_minor": 1
}
